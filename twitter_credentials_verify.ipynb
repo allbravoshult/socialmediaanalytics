{
 "cells": [
  {
   "cell_type": "code",
   "execution_count": 1,
   "id": "7d1d985c",
   "metadata": {},
   "outputs": [],
   "source": [
    "# For Twitter API interactions:\n",
    "#  install tweepy package; along the way, install wordcloud (will be used in this task)\n",
    "# In terminal:\n",
    "#  conda install -c conda-forge tweepy wordcloud\n",
    "#\n",
    "# Alternatively, right here in the notebook (uncomment the next two lines and run):\n",
    "#import sys\n",
    "#!conda install -c conda-forge --yes --prefix {sys.prefix} tweepy wordcloud"
   ]
  },
  {
   "cell_type": "code",
   "execution_count": 2,
   "id": "ebebde48",
   "metadata": {},
   "outputs": [],
   "source": [
    "# Save \"config_twitter.py\" file in your working folder:\n",
    "#  https://raw.githubusercontent.com/multidis/hult-social-media-analytics/main/task_twitter/config_twitter.py\n",
    "#\n",
    "# Collect your Twitter developer access tokens as described in the course module,\n",
    "#  \"Generating Twitter developer access tokens\" page\n",
    "#\n",
    "# Edit \"config_twitter.py\" entering your keys/tokens in the respective assignment statements (instead of \"todo\").\n",
    "# Then proceed with the cells below."
   ]
  },
  {
   "cell_type": "code",
   "execution_count": 3,
   "id": "6d9f4bb9",
   "metadata": {},
   "outputs": [],
   "source": [
    "import tweepy as tw\n",
    "import config_twitter"
   ]
  },
  {
   "cell_type": "code",
   "execution_count": 4,
   "id": "80a2a0de",
   "metadata": {},
   "outputs": [],
   "source": [
    "# establish Twitter API connection\n",
    "auth = tw.OAuthHandler(config_twitter.consumer_key, config_twitter.consumer_secret)\n",
    "auth.set_access_token(config_twitter.access_token, config_twitter.access_token_secret)\n",
    "api = tw.API(auth, wait_on_rate_limit=True)"
   ]
  },
  {
   "cell_type": "code",
   "execution_count": 5,
   "id": "cc1c05e2",
   "metadata": {},
   "outputs": [
    {
     "data": {
      "text/plain": [
       "User(_api=<tweepy.api.API object at 0x0000023F82E2A1C0>, _json={'id': 19968854, 'id_str': '19968854', 'name': 'Allan Bravos', 'screen_name': 'allanbravos', 'location': 'Brazil', 'description': '', 'url': None, 'entities': {'description': {'urls': []}}, 'protected': False, 'followers_count': 45, 'friends_count': 10, 'listed_count': 1, 'created_at': 'Tue Feb 03 13:01:16 +0000 2009', 'favourites_count': 0, 'utc_offset': None, 'time_zone': None, 'geo_enabled': False, 'verified': False, 'statuses_count': 10, 'lang': None, 'status': {'created_at': 'Sat May 14 03:38:25 +0000 2016', 'id': 731327782949687297, 'id_str': '731327782949687297', 'text': 'Free download: Grunge Concrete Textures https://t.co/TvpH4hdtVm', 'truncated': False, 'entities': {'hashtags': [], 'symbols': [], 'user_mentions': [], 'urls': [{'url': 'https://t.co/TvpH4hdtVm', 'expanded_url': 'http://bit.ly/18BPNQv', 'display_url': 'bit.ly/18BPNQv', 'indices': [40, 63]}]}, 'source': '<a href=\"http://webdesignerdepot.com\" rel=\"nofollow\">WebdesignerDepot Pay With Tweet</a>', 'in_reply_to_status_id': None, 'in_reply_to_status_id_str': None, 'in_reply_to_user_id': None, 'in_reply_to_user_id_str': None, 'in_reply_to_screen_name': None, 'geo': None, 'coordinates': None, 'place': None, 'contributors': None, 'is_quote_status': False, 'retweet_count': 0, 'favorite_count': 0, 'favorited': False, 'retweeted': False, 'possibly_sensitive': False, 'lang': 'en'}, 'contributors_enabled': False, 'is_translator': False, 'is_translation_enabled': False, 'profile_background_color': 'C0DEED', 'profile_background_image_url': 'http://abs.twimg.com/images/themes/theme1/bg.png', 'profile_background_image_url_https': 'https://abs.twimg.com/images/themes/theme1/bg.png', 'profile_background_tile': False, 'profile_image_url': 'http://pbs.twimg.com/profile_images/113331716/mail.google.com_normal.jpg', 'profile_image_url_https': 'https://pbs.twimg.com/profile_images/113331716/mail.google.com_normal.jpg', 'profile_link_color': '1DA1F2', 'profile_sidebar_border_color': 'C0DEED', 'profile_sidebar_fill_color': 'DDEEF6', 'profile_text_color': '333333', 'profile_use_background_image': True, 'has_extended_profile': True, 'default_profile': True, 'default_profile_image': False, 'following': False, 'follow_request_sent': False, 'notifications': False, 'translator_type': 'none', 'withheld_in_countries': [], 'suspended': False, 'needs_phone_verification': False}, id=19968854, id_str='19968854', name='Allan Bravos', screen_name='allanbravos', location='Brazil', description='', url=None, entities={'description': {'urls': []}}, protected=False, followers_count=45, friends_count=10, listed_count=1, created_at=datetime.datetime(2009, 2, 3, 13, 1, 16, tzinfo=datetime.timezone.utc), favourites_count=0, utc_offset=None, time_zone=None, geo_enabled=False, verified=False, statuses_count=10, lang=None, status=Status(_api=<tweepy.api.API object at 0x0000023F82E2A1C0>, _json={'created_at': 'Sat May 14 03:38:25 +0000 2016', 'id': 731327782949687297, 'id_str': '731327782949687297', 'text': 'Free download: Grunge Concrete Textures https://t.co/TvpH4hdtVm', 'truncated': False, 'entities': {'hashtags': [], 'symbols': [], 'user_mentions': [], 'urls': [{'url': 'https://t.co/TvpH4hdtVm', 'expanded_url': 'http://bit.ly/18BPNQv', 'display_url': 'bit.ly/18BPNQv', 'indices': [40, 63]}]}, 'source': '<a href=\"http://webdesignerdepot.com\" rel=\"nofollow\">WebdesignerDepot Pay With Tweet</a>', 'in_reply_to_status_id': None, 'in_reply_to_status_id_str': None, 'in_reply_to_user_id': None, 'in_reply_to_user_id_str': None, 'in_reply_to_screen_name': None, 'geo': None, 'coordinates': None, 'place': None, 'contributors': None, 'is_quote_status': False, 'retweet_count': 0, 'favorite_count': 0, 'favorited': False, 'retweeted': False, 'possibly_sensitive': False, 'lang': 'en'}, created_at=datetime.datetime(2016, 5, 14, 3, 38, 25, tzinfo=datetime.timezone.utc), id=731327782949687297, id_str='731327782949687297', text='Free download: Grunge Concrete Textures https://t.co/TvpH4hdtVm', truncated=False, entities={'hashtags': [], 'symbols': [], 'user_mentions': [], 'urls': [{'url': 'https://t.co/TvpH4hdtVm', 'expanded_url': 'http://bit.ly/18BPNQv', 'display_url': 'bit.ly/18BPNQv', 'indices': [40, 63]}]}, source='WebdesignerDepot Pay With Tweet', source_url='http://webdesignerdepot.com', in_reply_to_status_id=None, in_reply_to_status_id_str=None, in_reply_to_user_id=None, in_reply_to_user_id_str=None, in_reply_to_screen_name=None, geo=None, coordinates=None, place=None, contributors=None, is_quote_status=False, retweet_count=0, favorite_count=0, favorited=False, retweeted=False, possibly_sensitive=False, lang='en'), contributors_enabled=False, is_translator=False, is_translation_enabled=False, profile_background_color='C0DEED', profile_background_image_url='http://abs.twimg.com/images/themes/theme1/bg.png', profile_background_image_url_https='https://abs.twimg.com/images/themes/theme1/bg.png', profile_background_tile=False, profile_image_url='http://pbs.twimg.com/profile_images/113331716/mail.google.com_normal.jpg', profile_image_url_https='https://pbs.twimg.com/profile_images/113331716/mail.google.com_normal.jpg', profile_link_color='1DA1F2', profile_sidebar_border_color='C0DEED', profile_sidebar_fill_color='DDEEF6', profile_text_color='333333', profile_use_background_image=True, has_extended_profile=True, default_profile=True, default_profile_image=False, following=False, follow_request_sent=False, notifications=False, translator_type='none', withheld_in_countries=[], suspended=False, needs_phone_verification=False)"
      ]
     },
     "execution_count": 5,
     "metadata": {},
     "output_type": "execute_result"
    }
   ],
   "source": [
    "# returns False if credentials could not be verified, otherwise a user-object\n",
    "# https://docs.tweepy.org/en/stable/api.html#API.verify_credentials\n",
    "user = api.verify_credentials()\n",
    "user"
   ]
  },
  {
   "cell_type": "code",
   "execution_count": null,
   "id": "8dc94713",
   "metadata": {},
   "outputs": [],
   "source": []
  }
 ],
 "metadata": {
  "kernelspec": {
   "display_name": "Python 3 (ipykernel)",
   "language": "python",
   "name": "python3"
  },
  "language_info": {
   "codemirror_mode": {
    "name": "ipython",
    "version": 3
   },
   "file_extension": ".py",
   "mimetype": "text/x-python",
   "name": "python",
   "nbconvert_exporter": "python",
   "pygments_lexer": "ipython3",
   "version": "3.9.12"
  }
 },
 "nbformat": 4,
 "nbformat_minor": 5
}
