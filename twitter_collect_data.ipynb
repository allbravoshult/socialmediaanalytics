{
 "cells": [
  {
   "cell_type": "code",
   "execution_count": 10,
   "id": "b59ef8fd",
   "metadata": {},
   "outputs": [],
   "source": [
    "# Collect relevant tweets through the Twitter API.\n",
    "import json\n",
    "import tweepy as tw"
   ]
  },
  {
   "cell_type": "code",
   "execution_count": 11,
   "id": "50c06462",
   "metadata": {},
   "outputs": [],
   "source": [
    "# IMPORTANT: enter proper access credential in config_twitter.py file\n",
    "import config_twitter"
   ]
  },
  {
   "cell_type": "code",
   "execution_count": 12,
   "id": "7ded247a",
   "metadata": {},
   "outputs": [],
   "source": [
    "# function to establish an initial API connection, respecting the rate limit\n",
    "def connect_api_client():\n",
    "    auth = tw.OAuthHandler(config_twitter.consumer_key, config_twitter.consumer_secret)\n",
    "    auth.set_access_token(config_twitter.access_token, config_twitter.access_token_secret)\n",
    "    # https://docs.tweepy.org/en/stable/getting_started.html#api\n",
    "    api = tw.API(auth, wait_on_rate_limit=True)\n",
    "    try:\n",
    "        # returns False if credentials could not be verified\n",
    "        # https://docs.tweepy.org/en/stable/api.html#API.verify_credentials\n",
    "        api.verify_credentials()\n",
    "        user = api.verify_credentials()\n",
    "        if not user:\n",
    "            raise(\"Credentials could not be verified: Please check config.py\")\n",
    "        print(f\"Connected to Twitter API as {user.name}\")\n",
    "    except Exception as e:\n",
    "        raise e\n",
    "    return api"
   ]
  },
  {
   "cell_type": "code",
   "execution_count": 13,
   "id": "8cea8b14",
   "metadata": {},
   "outputs": [
    {
     "name": "stdout",
     "output_type": "stream",
     "text": [
      "Connected to Twitter API as Allan Bravos\n"
     ]
    }
   ],
   "source": [
    "api = connect_api_client()"
   ]
  },
  {
   "cell_type": "code",
   "execution_count": 14,
   "id": "9e6db275",
   "metadata": {},
   "outputs": [],
   "source": [
    "# construct a search query\n",
    "query = '\"artificial intelligence\" OR \"machine learning\" OR \"deep learning\" -filter:retweets'"
   ]
  },
  {
   "cell_type": "code",
   "execution_count": 15,
   "id": "7360dc42",
   "metadata": {},
   "outputs": [],
   "source": [
    "# decide how many tweets to query\n",
    "###TODO increase this value later to collect a good dataset (try 2000 for instance)\n",
    "ntweets = 2000"
   ]
  },
  {
   "cell_type": "code",
   "execution_count": 16,
   "id": "90f6b88e",
   "metadata": {},
   "outputs": [
    {
     "data": {
      "text/plain": [
       "2000"
      ]
     },
     "execution_count": 16,
     "metadata": {},
     "output_type": "execute_result"
    }
   ],
   "source": [
    "# search and collect relevant tweets\n",
    "# https://docs.tweepy.org/en/stable/cursor_tutorial.html\n",
    "# https://docs.tweepy.org/en/stable/code_snippet.html\n",
    "tweets = [tweet._json for tweet in tw.Cursor(api.search_tweets, q=query, lang=\"en\", tweet_mode='extended').items(ntweets)]\n",
    "len(tweets)"
   ]
  },
  {
   "cell_type": "code",
   "execution_count": 17,
   "id": "32bbc3a2",
   "metadata": {},
   "outputs": [
    {
     "data": {
      "text/plain": [
       "{'created_at': 'Tue Aug 02 00:31:03 +0000 2022',\n",
       " 'id': 1554263471298068480,\n",
       " 'id_str': '1554263471298068480',\n",
       " 'full_text': 'In this post, we have added a facial identity-based authentication user interface to show a complete end-to-end identity verification solution. \\n\\n#AWS #AWSBlog #Serverless #APIGateway #StepFunction #Rekognition #Cloud #CloudComputing\\n https://t.co/FfWEPQcb9a https://t.co/qbaMxmLaMx',\n",
       " 'truncated': False,\n",
       " 'display_text_range': [0, 258],\n",
       " 'entities': {'hashtags': [{'text': 'AWS', 'indices': [146, 150]},\n",
       "   {'text': 'AWSBlog', 'indices': [151, 159]},\n",
       "   {'text': 'Serverless', 'indices': [160, 171]},\n",
       "   {'text': 'APIGateway', 'indices': [172, 183]},\n",
       "   {'text': 'StepFunction', 'indices': [184, 197]},\n",
       "   {'text': 'Rekognition', 'indices': [198, 210]},\n",
       "   {'text': 'Cloud', 'indices': [211, 217]},\n",
       "   {'text': 'CloudComputing', 'indices': [218, 233]}],\n",
       "  'symbols': [],\n",
       "  'user_mentions': [],\n",
       "  'urls': [{'url': 'https://t.co/FfWEPQcb9a',\n",
       "    'expanded_url': 'https://go.aws/3QcaUjL',\n",
       "    'display_url': 'go.aws/3QcaUjL',\n",
       "    'indices': [235, 258]}],\n",
       "  'media': [{'id': 1554263469662298117,\n",
       "    'id_str': '1554263469662298117',\n",
       "    'indices': [259, 282],\n",
       "    'media_url': 'http://pbs.twimg.com/media/FZHaZAyWYAU7fAG.jpg',\n",
       "    'media_url_https': 'https://pbs.twimg.com/media/FZHaZAyWYAU7fAG.jpg',\n",
       "    'url': 'https://t.co/qbaMxmLaMx',\n",
       "    'display_url': 'pic.twitter.com/qbaMxmLaMx',\n",
       "    'expanded_url': 'https://twitter.com/Ana_La_Rana/status/1554263471298068480/photo/1',\n",
       "    'type': 'photo',\n",
       "    'sizes': {'large': {'w': 1281, 'h': 621, 'resize': 'fit'},\n",
       "     'thumb': {'w': 150, 'h': 150, 'resize': 'crop'},\n",
       "     'medium': {'w': 1200, 'h': 582, 'resize': 'fit'},\n",
       "     'small': {'w': 680, 'h': 330, 'resize': 'fit'}}}]},\n",
       " 'extended_entities': {'media': [{'id': 1554263469662298117,\n",
       "    'id_str': '1554263469662298117',\n",
       "    'indices': [259, 282],\n",
       "    'media_url': 'http://pbs.twimg.com/media/FZHaZAyWYAU7fAG.jpg',\n",
       "    'media_url_https': 'https://pbs.twimg.com/media/FZHaZAyWYAU7fAG.jpg',\n",
       "    'url': 'https://t.co/qbaMxmLaMx',\n",
       "    'display_url': 'pic.twitter.com/qbaMxmLaMx',\n",
       "    'expanded_url': 'https://twitter.com/Ana_La_Rana/status/1554263471298068480/photo/1',\n",
       "    'type': 'photo',\n",
       "    'sizes': {'large': {'w': 1281, 'h': 621, 'resize': 'fit'},\n",
       "     'thumb': {'w': 150, 'h': 150, 'resize': 'crop'},\n",
       "     'medium': {'w': 1200, 'h': 582, 'resize': 'fit'},\n",
       "     'small': {'w': 680, 'h': 330, 'resize': 'fit'}}}]},\n",
       " 'metadata': {'iso_language_code': 'en', 'result_type': 'recent'},\n",
       " 'source': '<a href=\"http://www.everyonesocial.com\" rel=\"nofollow\">EveryoneSocial</a>',\n",
       " 'in_reply_to_status_id': None,\n",
       " 'in_reply_to_status_id_str': None,\n",
       " 'in_reply_to_user_id': None,\n",
       " 'in_reply_to_user_id_str': None,\n",
       " 'in_reply_to_screen_name': None,\n",
       " 'user': {'id': 243004287,\n",
       "  'id_str': '243004287',\n",
       "  'name': 'Ana Milena Barragán Charry',\n",
       "  'screen_name': 'Ana_La_Rana',\n",
       "  'location': '',\n",
       "  'description': \"Leader and founder of @awswomencol --MSc. Software Engineering-- /*Rocker n' Metalhead*/ #Cronopiana #Amazonian #AnimalLover #Sentipensante\",\n",
       "  'url': None,\n",
       "  'entities': {'description': {'urls': []}},\n",
       "  'protected': False,\n",
       "  'followers_count': 233,\n",
       "  'friends_count': 326,\n",
       "  'listed_count': 7,\n",
       "  'created_at': 'Wed Jan 26 02:35:43 +0000 2011',\n",
       "  'favourites_count': 158,\n",
       "  'utc_offset': None,\n",
       "  'time_zone': None,\n",
       "  'geo_enabled': True,\n",
       "  'verified': False,\n",
       "  'statuses_count': 11038,\n",
       "  'lang': None,\n",
       "  'contributors_enabled': False,\n",
       "  'is_translator': False,\n",
       "  'is_translation_enabled': False,\n",
       "  'profile_background_color': 'ACDED6',\n",
       "  'profile_background_image_url': 'http://abs.twimg.com/images/themes/theme13/bg.gif',\n",
       "  'profile_background_image_url_https': 'https://abs.twimg.com/images/themes/theme13/bg.gif',\n",
       "  'profile_background_tile': True,\n",
       "  'profile_image_url': 'http://pbs.twimg.com/profile_images/862306747452710912/A4ri74n8_normal.jpg',\n",
       "  'profile_image_url_https': 'https://pbs.twimg.com/profile_images/862306747452710912/A4ri74n8_normal.jpg',\n",
       "  'profile_banner_url': 'https://pbs.twimg.com/profile_banners/243004287/1360801696',\n",
       "  'profile_link_color': '139BD1',\n",
       "  'profile_sidebar_border_color': 'EEEEEE',\n",
       "  'profile_sidebar_fill_color': 'F6F6F6',\n",
       "  'profile_text_color': '1C517A',\n",
       "  'profile_use_background_image': True,\n",
       "  'has_extended_profile': True,\n",
       "  'default_profile': False,\n",
       "  'default_profile_image': False,\n",
       "  'following': False,\n",
       "  'follow_request_sent': False,\n",
       "  'notifications': False,\n",
       "  'translator_type': 'none',\n",
       "  'withheld_in_countries': []},\n",
       " 'geo': None,\n",
       " 'coordinates': None,\n",
       " 'place': None,\n",
       " 'contributors': None,\n",
       " 'is_quote_status': False,\n",
       " 'retweet_count': 1,\n",
       " 'favorite_count': 0,\n",
       " 'favorited': False,\n",
       " 'retweeted': False,\n",
       " 'possibly_sensitive': True,\n",
       " 'lang': 'en'}"
      ]
     },
     "execution_count": 17,
     "metadata": {},
     "output_type": "execute_result"
    }
   ],
   "source": [
    "# example tweet content (json structure)\n",
    "tweets[0]"
   ]
  },
  {
   "cell_type": "code",
   "execution_count": 18,
   "id": "806ebea7",
   "metadata": {},
   "outputs": [],
   "source": [
    "# save tweets data to json file\n",
    "file_out = f\"raw_tweet_data_{ntweets}.json\"\n",
    "with open(file_out, mode='w') as f:\n",
    "    f.write(json.dumps(tweets, indent=2))"
   ]
  },
  {
   "cell_type": "code",
   "execution_count": null,
   "id": "cd11125a",
   "metadata": {},
   "outputs": [],
   "source": []
  }
 ],
 "metadata": {
  "kernelspec": {
   "display_name": "Python 3 (ipykernel)",
   "language": "python",
   "name": "python3"
  },
  "language_info": {
   "codemirror_mode": {
    "name": "ipython",
    "version": 3
   },
   "file_extension": ".py",
   "mimetype": "text/x-python",
   "name": "python",
   "nbconvert_exporter": "python",
   "pygments_lexer": "ipython3",
   "version": "3.9.12"
  }
 },
 "nbformat": 4,
 "nbformat_minor": 5
}
